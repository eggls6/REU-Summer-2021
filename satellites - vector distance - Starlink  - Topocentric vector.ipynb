{
 "cells": [
  {
   "cell_type": "code",
   "execution_count": 6,
   "id": "c1500b40",
   "metadata": {},
   "outputs": [],
   "source": [
    "import pandas as pd               \n",
    "import numpy as np\n",
    "import math"
   ]
  },
  {
   "cell_type": "code",
   "execution_count": 7,
   "id": "677e520d",
   "metadata": {},
   "outputs": [],
   "source": [
    "import spiceypy as sp\n",
    "import astropy.coordinates\n",
    "import re\n",
    "import sgp4.api as sg\n",
    "import astropy.units as u\n",
    "from astropy.coordinates import SkyCoord"
   ]
  },
  {
   "cell_type": "code",
   "execution_count": 8,
   "id": "3381c2af",
   "metadata": {},
   "outputs": [],
   "source": [
    "import matplotlib.pyplot as plt\n",
    "import os\n",
    "import sys\n",
    "from timeit import default_timer as timer\n",
    "from astropy.time import Time\n",
    "from astropy.time import TimeDelta\n",
    "import datetime as dt\n",
    "import timeit\n",
    "import skyfield\n",
    "# from skyfield.framelib import ecliptic_frame # For rotation matrices\n",
    "from skyfield.api import EarthSatellite # For time calculations\n",
    "from skyfield.api import load\n",
    "from skyfield.api import N,S,E,W, wgs84\n",
    "from skyfield.positionlib import Barycentric"
   ]
  },
  {
   "cell_type": "markdown",
   "id": "e3b35257",
   "metadata": {},
   "source": [
    "#### Let us start with reading in the first 10000 LSST observations for Main Belt Asteroids (S1 in the Synthetic Solar System model)"
   ]
  },
  {
   "cell_type": "code",
   "execution_count": 9,
   "id": "137d9307",
   "metadata": {},
   "outputs": [],
   "source": [
    "path = \"/data/projects/lsst/baseline_fbs_v1p7p1/\"\n",
    "dir_list = os.listdir(path)\n",
    "\n",
    "dflist=[]\n",
    "\n",
    "for d in dir_list:\n",
    "    if(d[0:2]=='S1'):\n",
    "        dflist.append(pd.read_hdf('/data/projects/lsst/baseline_fbs_v1p7p1/'+d+'/visit-0000000.h5'))\n",
    "        dflist.append(pd.read_hdf('/data/projects/lsst/baseline_fbs_v1p7p1/'+d+'/visit-0010000.h5'))"
   ]
  },
  {
   "cell_type": "code",
   "execution_count": 10,
   "id": "4d94f160",
   "metadata": {},
   "outputs": [
    {
     "data": {
      "text/plain": [
       "Index(['ObjID', 'FieldID', 'FieldMJD', 'AstRange(km)', 'AstRangeRate(km/s)',\n",
       "       'AstRA(deg)', 'AstRARate(deg/day)', 'AstDec(deg)',\n",
       "       'AstDecRate(deg/day)', 'Ast-Sun(J2000x)(km)', 'Ast-Sun(J2000y)(km)',\n",
       "       'Ast-Sun(J2000z)(km)', 'Ast-Sun(J2000vx)(km/s)',\n",
       "       'Ast-Sun(J2000vy)(km/s)', 'Ast-Sun(J2000vz)(km/s)',\n",
       "       'Obs-Sun(J2000x)(km)', 'Obs-Sun(J2000y)(km)', 'Obs-Sun(J2000z)(km)',\n",
       "       'Obs-Sun(J2000vx)(km/s)', 'Obs-Sun(J2000vy)(km/s)',\n",
       "       'Obs-Sun(J2000vz)(km/s)', 'Sun-Ast-Obs(deg)', 'V', 'V(H=0)',\n",
       "       'MaginFilterTrue', 'AstrometricSigma(mas)', 'PhotometricSigma(mag)',\n",
       "       'SNR', 'AstrometricSigma(deg)', 'MaginFilter', 'dmagDetect',\n",
       "       'AstRATrue(deg)', 'AstDecTrue(deg)', 'filter'],\n",
       "      dtype='object')"
      ]
     },
     "execution_count": 10,
     "metadata": {},
     "output_type": "execute_result"
    }
   ],
   "source": [
    "# every dataframe looks like this\n",
    "dflist[0].columns"
   ]
  },
  {
   "cell_type": "code",
   "execution_count": 11,
   "id": "0cb9e931",
   "metadata": {},
   "outputs": [],
   "source": [
    "# concatenate them into a single dataframe\n",
    "dfin=pd.concat(dflist)"
   ]
  },
  {
   "cell_type": "code",
   "execution_count": 12,
   "id": "eed4d0e2",
   "metadata": {},
   "outputs": [],
   "source": [
    "# we can sort the resulting dataframe by by FieldID\n",
    "dfin.sort_values(['FieldID'], inplace=True)"
   ]
  },
  {
   "cell_type": "code",
   "execution_count": 13,
   "id": "b4d9b6f2",
   "metadata": {},
   "outputs": [
    {
     "data": {
      "text/plain": [
       "FieldID\n",
       "0        390\n",
       "1        363\n",
       "2        164\n",
       "3         96\n",
       "4         77\n",
       "        ... \n",
       "19992      3\n",
       "19993      1\n",
       "19996      2\n",
       "19998      3\n",
       "19999      1\n",
       "Name: ObjID, Length: 16608, dtype: int64"
      ]
     },
     "execution_count": 13,
     "metadata": {},
     "output_type": "execute_result"
    }
   ],
   "source": [
    "# then grouping and counting is a little faster. It seems that FieldID 0 has the most observations\n",
    "dfin.groupby(['FieldID']).count()['ObjID']"
   ]
  },
  {
   "cell_type": "code",
   "execution_count": 14,
   "id": "a913f890",
   "metadata": {},
   "outputs": [],
   "source": [
    "def icrf2radec(pos, deg=True):\n",
    "    \"\"\"Convert ICRF xyz to Right Ascension and Declination.\n",
    "    Geometric states on unit sphere, no light travel time/aberration correction.\n",
    "    \n",
    "    Parameters:\n",
    "    -----------\n",
    "    pos ... real, dim=[n, 3], 3D vector of unit length (ICRF)\n",
    "    deg ... True: angles in degrees, False: angles in radians\n",
    "    Returns:\n",
    "    --------\n",
    "    ra ... Right Ascension [deg]\n",
    "    dec ... Declination [deg]\n",
    "    \"\"\"\n",
    "    norm=np.linalg.norm\n",
    "    array=np.array\n",
    "    arctan2=np.arctan2\n",
    "    arcsin=np.arcsin\n",
    "    rad2deg=np.rad2deg\n",
    "    modulo=np.mod\n",
    "    pix2=2.*np.pi\n",
    "    \n",
    "    if(pos.ndim>1):\n",
    "        r=norm(pos,axis=1)\n",
    "        xu=pos[:,0]/r\n",
    "        yu=pos[:,1]/r\n",
    "        zu=pos[:,2]/r\n",
    "    else:\n",
    "        r=norm(pos)\n",
    "        xu=pos[0]/r\n",
    "        yu=pos[1]/r\n",
    "        zu=pos[2]/r\n",
    "    \n",
    "    phi=arctan2(yu,xu)\n",
    "    delta=arcsin(zu)\n",
    "    \n",
    "    if(deg):\n",
    "        ra = modulo(rad2deg(phi)+360,360)\n",
    "        dec = rad2deg(delta)\n",
    "    else:\n",
    "        ra = modulo(phi+pix2,pix2)\n",
    "        dec = delta\n",
    "    \n",
    "    return ra, dec"
   ]
  },
  {
   "cell_type": "code",
   "execution_count": 15,
   "id": "388a7244",
   "metadata": {},
   "outputs": [],
   "source": [
    "def radec2icrf(ra, dec, deg=True):\n",
    "    \"\"\"Convert Right Ascension and Declination to ICRF xyz unit vector.\n",
    "    Geometric states on unit sphere, no light travel time/aberration correction.\n",
    "    \n",
    "    Parameters:\n",
    "    -----------\n",
    "    ra ... Right Ascension [deg]\n",
    "    dec ... Declination [deg]\n",
    "    deg ... True: angles in degrees, False: angles in radians\n",
    "    Returns:\n",
    "    --------\n",
    "    x,y,z ... 3D vector of unit length (ICRF)\n",
    "    \"\"\"\n",
    "    deg2rad=np.deg2rad\n",
    "    array=np.array\n",
    "    cos=np.cos\n",
    "    sin=np.sin\n",
    "    \n",
    "    if(deg):\n",
    "        a = deg2rad(ra)\n",
    "        d = deg2rad(dec)\n",
    "    else:\n",
    "        a = array(ra)\n",
    "        d = array(dec)\n",
    "    \n",
    "    cosd = cos(d)\n",
    "    x = cosd*cos(a)\n",
    "    y = cosd*sin(a)\n",
    "    z = sin(d)\n",
    "    \n",
    "    return array([x, y, z])"
   ]
  },
  {
   "cell_type": "code",
   "execution_count": 16,
   "id": "68c9ff9f",
   "metadata": {},
   "outputs": [],
   "source": [
    "field_ids = dfin['FieldID'].unique()"
   ]
  },
  {
   "cell_type": "code",
   "execution_count": 17,
   "id": "f9c65f1a",
   "metadata": {},
   "outputs": [],
   "source": [
    "dates = dfin['FieldMJD'].unique()"
   ]
  },
  {
   "cell_type": "code",
   "execution_count": 18,
   "id": "aaae3ea1",
   "metadata": {},
   "outputs": [
    {
     "name": "stdout",
     "output_type": "stream",
     "text": [
      "Earliest field date: 59853.98564424414 or 10-01-2022 at 23:39:19.663 UTC\n",
      "Last field date: 59882.21064935192 or 10-30-2022 at 05:03:20.104 UTC\n"
     ]
    }
   ],
   "source": [
    "print(\"Earliest field date: \" + str(min(dates)) + \" or 10-01-2022 at 23:39:19.663 UTC\")\n",
    "print(\"Last field date: \" + str(max(dates)) + \" or 10-30-2022 at 05:03:20.104 UTC\")"
   ]
  },
  {
   "cell_type": "code",
   "execution_count": 19,
   "id": "a9bb67ff",
   "metadata": {},
   "outputs": [
    {
     "name": "stdout",
     "output_type": "stream",
     "text": [
      "Files in '/home/davidar6/Solution Testing': ['.ipynb_checkpoints', 'starlink_tle.txt', 'starlink_tle2.txt', 'ActiveSatellites_tle.txt', 'satellites - vector distance - Starlink 2 TLE.ipynb', 'satellites - vector distance - Starlink 1 - Time.ipynb', 'satellites - vector distance - Active Satellites TLE.ipynb', 'last30days_tle.txt', '100brightest_tle.txt', 'satellites - vector distance - 100 Brightest TLE.ipynb', 'satellites - vector distance - Last 30 Days.ipynb', 'satellites - vector distance - Starlink 2 TLE-Fix.ipynb', 'satellites - vector distance - Starlink 1 - Time - Data.ipynb', 'satellites - vector distance - Starlink 1 - Topocentric vector.ipynb', 'satellites - vector distance - Starlink 1 - Topocentric vector - degrees.ipynb', 'satellites - vector distance - Starlink 1 - Naive Topocentric vector .ipynb']\n"
     ]
    }
   ],
   "source": [
    "cwd = os.getcwd()  # Get the current working directory (cwd)\n",
    "files = os.listdir(cwd)  # Get all the files in that directory\n",
    "print(\"Files in %r: %s\" % (cwd, files))"
   ]
  },
  {
   "cell_type": "code",
   "execution_count": 20,
   "id": "480de5ee",
   "metadata": {},
   "outputs": [],
   "source": [
    "# open the TLE files\n",
    "with open('/home/davidar6/Solution Testing/starlink_tle.txt') as f:\n",
    "    starlinks = f.read().splitlines() "
   ]
  },
  {
   "cell_type": "code",
   "execution_count": 21,
   "id": "e2fb5b9a",
   "metadata": {},
   "outputs": [],
   "source": [
    "# split up the list into 3-line lists for each satellite\n",
    "chunks = [starlinks[n:n + 3] for n in range(0, len(starlinks), 3)]"
   ]
  },
  {
   "cell_type": "code",
   "execution_count": 22,
   "id": "ca9c54f7",
   "metadata": {},
   "outputs": [
    {
     "name": "stdout",
     "output_type": "stream",
     "text": [
      "There are 1653 satellites\n"
     ]
    }
   ],
   "source": [
    "print(\"There are \" + str(len(chunks)) + \" satellites\")"
   ]
  },
  {
   "cell_type": "code",
   "execution_count": 23,
   "id": "71c9ef7f",
   "metadata": {},
   "outputs": [],
   "source": [
    "import warnings"
   ]
  },
  {
   "cell_type": "code",
   "execution_count": 24,
   "id": "53f9d387",
   "metadata": {},
   "outputs": [],
   "source": [
    "def crosstrackdistance(lat1, long1, lat2, long2, lat3, long3):\n",
    "    c1 = SkyCoord(ra=long1*u.radian, dec=lat1*u.radian, frame='icrs')  \n",
    "    c2 = SkyCoord(ra=long2*u.radian, dec=lat2*u.radian, frame='icrs') \n",
    "    c3 = SkyCoord(ra=long3*u.radian, dec=lat3*u.radian, frame='icrs')\n",
    "    \n",
    "    c1.representation_type = 'cartesian'\n",
    "    c2.representation_type = 'cartesian'\n",
    "    c3.representation_type = 'cartesian'\n",
    "    \n",
    "    P1 = c1.x.value, c1.y.value, c1.z.value\n",
    "    P2 = c2.x.value, c2.y.value, c2.z.value\n",
    "    P3 = c3.x.value, c3.y.value, c3.z.value\n",
    "    \n",
    "    S = np.cross(P1,P2)\n",
    "    dot = np.dot(S,P3)\n",
    "    \n",
    "    dist = np.arctan2(dot/np.linalg.norm(S), np.sqrt(1 - (dot/np.linalg.norm(S))**2 )) \n",
    "    \n",
    "    return dist"
   ]
  },
  {
   "cell_type": "code",
   "execution_count": 20,
   "id": "d2394d3a",
   "metadata": {},
   "outputs": [],
   "source": [
    "# Rubin coordinates\n",
    "    # latRubin = -30.24506 (Degrees)\n",
    "    # longRubin = -70.74913 (Degrees)\n",
    "    # DecRubin = -30.24506 (Radians)\n",
    "    # RaRubin = 289.251 (Radians)\n",
    "    # Earth radius = 6371 km"
   ]
  },
  {
   "cell_type": "code",
   "execution_count": 35,
   "id": "4e4279c5",
   "metadata": {},
   "outputs": [],
   "source": [
    "###########################################\n",
    "# OBSERVER STATES\n",
    "\n",
    "###########################################\n",
    "def getObserverStates(observationTimes,observerLatitudeDeg=0,observerLatitudeDirection='N',\n",
    "                     observerLongitudeDeg=0,observerLongitudeDirection='W',observerElevationMeters=0):\n",
    "    \"\"\"Produce observer state vectors at observation times.\n",
    "    Parameters\n",
    "    ----------\n",
    "    observationTimes\n",
    "        Astropy Time array\n",
    "    observerLatitudeDeg\n",
    "        observer WGS84 latitude in degrees (float)\n",
    "    observerLatitudeDirection\n",
    "        observer latitude direciton ('N' for North or 'S' for South)\n",
    "    observerLongitudeDeg\n",
    "        observer WGS84 longitude in degrees (float)\n",
    "    observerLatitudeDirection\n",
    "        observer longitude direciton ('E' for East or 'W' for West)\n",
    "    observerElevationMeters\n",
    "        observer elevation in meters\n",
    "    Returns\n",
    "    -------\n",
    "    observer positions\n",
    "        WGS84 x,y,z observer positions at observation epochs in kilometers.\n",
    "    observer velocities\n",
    "        WGS84 dx/dt, dy/dt, dz/dt observer velocity at observation epochs in kilometers per second.\n",
    "    \"\"\"\n",
    "    # load time scale object from skyfield\n",
    "    ts = load.timescale()\n",
    "    times = ts.from_astropy(observationTimes)\n",
    "    if(observerLatitudeDirection == 'S'):\n",
    "        latDir = S\n",
    "    elif (observerLatitudeDirection == 'N'):\n",
    "        latDir = N\n",
    "    else:\n",
    "        Error(\"Observer Latitude Direction unknown. Must be 'N' or 'S'.\")\n",
    "    if(observerLongitudeDirection == 'W'):\n",
    "        lonDir = W\n",
    "    elif (observerLongitudeDirection == 'E'):\n",
    "        lonDir = E\n",
    "    else:\n",
    "        Error(\"Observer Longitude Direction unknown. Must be 'E' or 'W'.\")\n",
    "    observer = wgs84.latlon(observerLatitudeDeg * latDir, observerLongitudeDeg * lonDir, elevation_m=observerElevationMeters)\n",
    "    observerAt = observer.at(times)\n",
    "    return np.hstack([observerAt.position.km.T])"
   ]
  },
  {
   "cell_type": "code",
   "execution_count": 40,
   "id": "8988beff",
   "metadata": {
    "scrolled": true
   },
   "outputs": [
    {
     "data": {
      "image/png": "[encoded data removed]",
      "text/plain": [
       "<Figure size 600x600 with 1 Axes>"
      ]
     },
     "metadata": {
      "needs_background": "light"
     },
     "output_type": "display_data"
    },
    {
     "name": "stdout",
     "output_type": "stream",
     "text": [
      "Number of objects affected: 2\n",
      "\n",
      "Satellite times:\n",
      "[59855.088124053495, 59855.08814720164, 59855.088170349794, 59855.08819349794, 59855.08821664609, 59855.08823979423, 59855.08826294239, 59855.08828609053, 59855.08830923868, 59855.088332386826, 59855.08835553498, 59855.088378683125, 59855.08840183127, 59855.08842497942, 59855.08844812757, 59855.08847127572, 59855.088494423864, 59855.08851757201, 59855.088540720164, 59855.08856386831, 59855.08858701646, 59855.0886101646, 59855.08863331276, 59855.0886564609, 59855.08867960905, 59855.088702757195, 59855.08872590535, 59855.088749053495, 59855.08877220164, 59855.08879534979]\n",
      "\n",
      "Right Ascension, SATELLITE:\n",
      "[324.8611546810351, 325.02793143352034, 325.1943623414443, 325.36045552508006, 325.52620907245296, 325.6916310633299, 325.85672622528296, 326.02150256041784, 326.1859581189417, 326.35010086601505, 326.51393873411024, 326.6774697333531, 326.8407017590577, 327.00363937289256, 327.16629040085644, 327.3286528179896, 327.49073441510103, 327.65253967493976, 327.81407632154054, 327.9753422966126, 328.1363452946927, 328.29709295333674, 328.4575832060734, 328.6178236608956, 328.77781868514023, 328.93757582857705, 329.0970929947391, 329.2563777026446, 329.4154342541948, 329.57427011267316]\n",
      "Declination, SATELLITE\n",
      "[-16.994232734246246, -16.79689462929944, -16.599420806433695, -16.4018092393653, -16.20406980278893, -16.006200448893907, -15.808203073246457, -15.610075589709643, -15.411827844948418, -15.213457730785239, -15.014963100584241, -14.816353796735829, -14.617627653540223, -14.418786503092951, -14.219828144056821, -14.02076239446369, -13.821587035268603, -13.622303855076613, -13.42291060336232, -13.22341707559914, -13.023821000287084, -12.824120109661157, -12.624324163980772, -12.424430877444179, -12.224441955112809, -12.024355081789471, -11.824179997796627, -11.62391437507731, -11.423559881963932, -11.223114165017476]\n",
      "\n",
      "\n",
      "Right Ascension, OBJECTS:\n",
      "[327.1675275144249, 326.09567209636646]\n",
      "Declination, OBJECTS\n",
      "[-14.21853339301246, -15.520982364188038]\n",
      "\n",
      "Topocentric vector for satellite positions from Rubin (km):\n",
      "[[ 8758.85469773 -3980.8290245   3391.63550229]\n",
      " [ 8775.20502126 -3968.36639529  3414.499051  ]\n",
      " [ 8791.44935905 -3955.82972121  3437.40165698]\n",
      " [ 8807.58771352 -3943.21899384  3460.34333099]\n",
      " [ 8823.61910053 -3930.53492225  3483.32271183]\n",
      " [ 8839.5435285  -3917.77750193  3506.33980795]\n",
      " [ 8855.36067814 -3904.94696687  3529.39417202]\n",
      " [ 8871.07055148 -3892.04330841  3552.48581474]\n",
      " [ 8886.67218999 -3879.06725337  3575.6133657 ]\n",
      " [ 8902.16560204 -3866.01879716  3598.77683353]\n",
      " [ 8917.55079064 -3852.89792933  3621.97623107]\n",
      " [ 8932.82681566 -3839.70539145  3645.21017936]\n",
      " [ 8947.99368646 -3826.44117756  3668.47868894]\n",
      " [ 8963.05109722 -3813.10553298  3691.78130522]\n",
      " [ 8977.99905072 -3799.69844717  3715.11804106]\n",
      " [ 8992.83663293 -3786.22067905  3738.48750905]\n",
      " [ 9007.56385309 -3772.67222249  3761.88971982]\n",
      " [ 9022.18041403 -3759.05332829  3785.32421622]\n",
      " [ 9036.68631824 -3745.36398613  3808.79101084]\n",
      " [ 9051.08067805 -3731.60497186  3832.28870826]\n",
      " [ 9065.36350271 -3717.77627895  3855.81731959]\n",
      " [ 9079.53479324 -3703.87789849  3879.37685513]\n",
      " [ 9093.59368311 -3689.91061693  3902.96591624]\n",
      " [ 9107.54018023 -3675.87442975  3926.58451145]\n",
      " [ 9121.37400391 -3661.76959636  3950.23218109]\n",
      " [ 9135.0951551  -3647.59610742  3973.90893579]\n",
      " [ 9148.70279416 -3633.35476603  3997.61336969]\n",
      " [ 9162.19692882 -3619.04556776  4021.3454912 ]\n",
      " [ 9175.57728735 -3604.66877715  4045.10483861]\n",
      " [ 9188.84387026 -3590.22438507  4068.89142211]]\n",
      "Topocentric vector for object 0 (km):\n",
      "[ 1.26849815e+08 -8.18489044e+07 -3.82455689e+07]\n",
      "Topocentric vector for object 1 (km):\n",
      "[ 2.27263594e+08 -1.52737615e+08 -7.60388587e+07]\n"
     ]
    },
    {
     "data": {
      "image/png": "[encoded data removed]",
      "text/plain": [
       "<Figure size 600x600 with 1 Axes>"
      ]
     },
     "metadata": {
      "needs_background": "light"
     },
     "output_type": "display_data"
    },
    {
     "name": "stdout",
     "output_type": "stream",
     "text": [
      "Number of objects affected: 1\n",
      "\n",
      "Satellite times:\n",
      "[59874.21695161904, 59874.21697476719, 59874.21699791533, 59874.21702106348, 59874.21704421163, 59874.21706735978, 59874.217090507926, 59874.21711365607, 59874.217136804225, 59874.21715995237, 59874.21718310052, 59874.217206248664, 59874.21722939682, 59874.217252544964, 59874.21727569311, 59874.21729884126, 59874.21732198941, 59874.21734513756, 59874.2173682857, 59874.21739143386, 59874.217414582, 59874.21743773015, 59874.217460878295, 59874.21748402645]\n",
      "\n",
      "Right Ascension, SATELLITE:\n",
      "[8.965615259574918, 9.130518307805062, 9.295110367446796, 9.45939945043142, 9.623390214047333, 9.787090598547195, 9.950498630684024, 10.113622215547707, 10.276465926868013, 10.439037601263635, 10.601335230843404, 10.763366618849886, 10.925139514353305, 11.086651897940214, 11.24791148662996, 11.408922736190675, 11.569693302622795, 11.730221134896453, 11.89051386006605, 12.050575863565427, 12.210414715873696, 12.370028335541633, 12.52942426614436, 12.688606828124307]\n",
      "Declination, SATELLITE\n",
      "[15.105306771506166, 14.905353147878733, 14.705286833855018, 14.505105679449784, 14.304811559996068, 14.104402289910318, 13.903887788381638, 13.70326584965482, 13.502538306283872, 13.301702920493652, 13.10076958604952, 12.899736046693466, 12.698600045170062, 12.497371440941084, 12.296047959603941, 12.094631345335664, 11.893119295551786, 11.691521647700904, 11.489836082021661, 11.288064307945175, 11.086203979303193, 10.884264914213938, 10.68224475057556, 10.48014516519115]\n",
      "\n",
      "\n",
      "Right Ascension, OBJECTS:\n",
      "[10.361139023687485]\n",
      "Declination, OBJECTS\n",
      "[13.398624591264634]\n",
      "\n",
      "Topocentric vector for satellite positions from Rubin (km):\n",
      "[[5486.55552515 4795.17875609 6822.05040288]\n",
      " [5488.9664828  4815.12044463 6798.70443939]\n",
      " [5491.24738441 4835.04073762 6775.32374725]\n",
      " [5493.39823482 4854.93964077 6751.90832298]\n",
      " [5495.41897658 4874.81676077 6728.45862921]\n",
      " [5497.3096072  4894.67210201 6704.97466042]\n",
      " [5499.06996866 4914.50447986 6681.45781446]\n",
      " [5500.70006592 4934.31390018 6657.90808764]\n",
      " [5502.19985189 4954.09997136 6634.32594541]\n",
      " [5503.56932395 4973.8626978  6610.71138223]\n",
      " [5504.8083557  4993.60090038 6587.06580387]\n",
      " [5505.91695187 5013.31458505 6563.38920652]\n",
      " [5506.89510903 5033.00375466 6539.68158641]\n",
      " [5507.74272518 5052.66723595 6515.94435328]\n",
      " [5508.45980467 5072.30503327 6492.17750519]\n",
      " [5509.04631912 5091.91676018 6468.38150987]\n",
      " [5509.50226515 5111.50241944 6444.55636368]\n",
      " [5509.82757209 5131.06084401 6420.70348339]\n",
      " [5510.0222443  5150.59203839 6396.82286691]\n",
      " [5510.08626371 5170.09561817 6372.91498431]\n",
      " [5510.01962752 5189.57158606 6348.97983209]\n",
      " [5509.82229584 5209.01878167 6325.01883351]\n",
      " [5509.49427338 5228.43720958 6301.03198637]\n",
      " [5509.03555246 5247.82648761 6277.01976294]]\n",
      "Topocentric vector for object 0 (km):\n",
      "[2.93031624e+08 5.35799115e+07 7.09649247e+07]\n"
     ]
    },
    {
     "data": {
      "image/png": "[encoded data removed]",
      "text/plain": [
       "<Figure size 600x600 with 1 Axes>"
      ]
     },
     "metadata": {
      "needs_background": "light"
     },
     "output_type": "display_data"
    },
    {
     "name": "stdout",
     "output_type": "stream",
     "text": [
      "Number of objects affected: 2\n",
      "\n",
      "Satellite times:\n",
      "[59876.19557272031, 59876.195595868456, 59876.1956190166, 59876.195642164756, 59876.1956653129, 59876.19568846105, 59876.195711609194, 59876.19573475735, 59876.195757905494, 59876.19578105364, 59876.19580420179, 59876.19582734994, 59876.19585049809, 59876.19587364623, 59876.19589679438, 59876.19591994253, 59876.19594309068, 59876.195966238825, 59876.19598938697, 59876.196012535125, 59876.19603568327, 59876.19605883142]\n",
      "\n",
      "Right Ascension, SATELLITE:\n",
      "[1.1639430055217872, 1.3264749230197026, 1.4887367824559874, 1.6507363642717792, 1.812471652300701, 1.9739503886384568, 2.1351770320160313, 2.296159270265605, 2.4568950546912447, 2.6173920350324806, 2.777657823664242, 2.9376903517508026, 3.097497209024368, 3.2570827357755547, 3.4164544629676357, 3.5756102911375933, 3.7345577311378975, 3.8933010606531866, 4.051847732540523, 4.21019562236927, 4.368352164898454, 4.526324755590338]\n",
      "Declination, SATELLITE\n",
      "[13.471173889840006, 13.270318942365048, 13.069362247787277, 12.86830154595959, 12.667146706389547, 12.465895458715107, 12.264549571026786, 12.063106734795468, 11.861576797827452, 11.659957444988478, 11.458246346375267, 11.256453330945352, 11.054576045693732, 10.852616194799536, 10.650571405566271, 10.448451490176549, 10.246254053386206, 10.04398076856457, 9.84162922709791, 9.639209221387173, 9.436718321456404, 9.234154097474628]\n",
      "\n",
      "\n",
      "Right Ascension, OBJECTS:\n",
      "[3.324040292048039, 2.2274351181772545]\n",
      "Declination, OBJECTS\n",
      "[10.76766396696861, 12.149649196507479]\n",
      "\n",
      "Topocentric vector for satellite positions from Rubin (km):\n",
      "[[6116.88305874 3757.36733033 6813.4118239 ]\n",
      " [6121.32340998 3776.61928106 6789.82891216]\n",
      " [6125.63117091 3795.86805882 6766.21458341]\n",
      " [6129.80633879 3815.11366819 6742.56883237]\n",
      " [6133.84861978 3834.35496636 6718.89306779]\n",
      " [6137.75801893 3853.59195741 6695.18728713]\n",
      " [6141.53444422 3872.82426271 6671.45195948]\n",
      " [6145.17789305 3892.05188693 6647.68707946]\n",
      " [6148.68810343 3911.2736883  6623.89406303]\n",
      " [6152.06508045 3930.4896709  6600.07290763]\n",
      " [6155.30882148 3949.69983825 6576.22360927]\n",
      " [6158.41908798 3968.90305011 6552.34758843]\n",
      " [6161.39588589 3988.09931096 6528.444842  ]\n",
      " [6164.23914171 4007.28824323 6504.51584275]\n",
      " [6166.94885275 4026.46985063 6480.56058646]\n",
      " [6169.52481262 4045.64299435 6456.58050029]\n",
      " [6171.96702732 4064.8076792  6432.57558075]\n",
      " [6174.27543407 4083.96352813 6408.54630277]\n",
      " [6176.45003001 4103.11054474 6384.49266226]\n",
      " [6178.49064121 4122.2475924  6360.41609217]\n",
      " [6180.39727352 4141.37467588 6336.31658904]\n",
      " [6182.16992375 4160.49179838 6312.1941493 ]]\n",
      "Topocentric vector for object 0 (km):\n",
      "[2.45412500e+08 1.42573747e+07 4.67553810e+07]\n",
      "Topocentric vector for object 1 (km):\n",
      "[2.93049939e+08 1.14020274e+07 6.31431611e+07]\n"
     ]
    },
    {
     "ename": "KeyboardInterrupt",
     "evalue": "",
     "output_type": "error",
     "traceback": [
      "\u001b[0;31m---------------------------------------------------------------------------\u001b[0m",
      "\u001b[0;31mKeyboardInterrupt\u001b[0m                         Traceback (most recent call last)",
      "Input \u001b[0;32mIn [40]\u001b[0m, in \u001b[0;36m<cell line: 7>\u001b[0;34m()\u001b[0m\n\u001b[1;32m     51\u001b[0m \u001b[38;5;66;03m# We're going to propagate every 2 seconds from 30 seconds before to 30 seconds after field time because exposure for the field is 30 seconds\u001b[39;00m\n\u001b[1;32m     52\u001b[0m \u001b[38;5;66;03m# Because of this, there will be 61 total iterations of propagations\u001b[39;00m\n\u001b[1;32m     53\u001b[0m \u001b[38;5;66;03m# If a satellite is within this time, it will leave a streak in the field image\u001b[39;00m\n\u001b[1;32m     54\u001b[0m \u001b[38;5;28;01mwhile\u001b[39;00m count \u001b[38;5;241m<\u001b[39m\u001b[38;5;241m=\u001b[39m \u001b[38;5;241m61\u001b[39m:\n\u001b[0;32m---> 55\u001b[0m     jd_t \u001b[38;5;241m=\u001b[39m \u001b[43mt_before\u001b[49m\u001b[43m \u001b[49m\u001b[38;5;241;43m+\u001b[39;49m\u001b[43m \u001b[49m\u001b[38;5;241;43m2400000.5\u001b[39;49m  \u001b[38;5;66;03m# convert MJD to JD for sgp4 propagation calculation\u001b[39;00m\n\u001b[1;32m     56\u001b[0m     fr, whole \u001b[38;5;241m=\u001b[39m math\u001b[38;5;241m.\u001b[39mmodf(\u001b[38;5;28mfloat\u001b[39m(\u001b[38;5;28mstr\u001b[39m(jd_t)))  \u001b[38;5;66;03m# fr = digits after decimal of MJD\u001b[39;00m\n\u001b[1;32m     58\u001b[0m     e, r, v \u001b[38;5;241m=\u001b[39m sat\u001b[38;5;241m.\u001b[39msgp4(\u001b[38;5;28mfloat\u001b[39m(\u001b[38;5;28mstr\u001b[39m(jd_t)), \u001b[38;5;28mround\u001b[39m(fr, \u001b[38;5;241m12\u001b[39m))  \u001b[38;5;66;03m# r is [x,y,z] for propagated satellite\u001b[39;00m\n",
      "File \u001b[0;32m~/anaconda3/envs/py38/lib/python3.8/site-packages/astropy/time/core.py:2226\u001b[0m, in \u001b[0;36mTime.__add__\u001b[0;34m(self, other)\u001b[0m\n\u001b[1;32m   2223\u001b[0m out\u001b[38;5;241m.\u001b[39m_time\u001b[38;5;241m.\u001b[39mjd1, out\u001b[38;5;241m.\u001b[39m_time\u001b[38;5;241m.\u001b[39mjd2 \u001b[38;5;241m=\u001b[39m day_frac(jd1, jd2)\n\u001b[1;32m   2225\u001b[0m \u001b[38;5;66;03m# Go back to left-side scale if needed\u001b[39;00m\n\u001b[0;32m-> 2226\u001b[0m \u001b[43mout\u001b[49m\u001b[38;5;241;43m.\u001b[39;49m\u001b[43m_set_scale\u001b[49m\u001b[43m(\u001b[49m\u001b[38;5;28;43mself\u001b[39;49m\u001b[38;5;241;43m.\u001b[39;49m\u001b[43mscale\u001b[49m\u001b[43m)\u001b[49m\n\u001b[1;32m   2228\u001b[0m \u001b[38;5;28;01mreturn\u001b[39;00m out\n",
      "File \u001b[0;32m~/anaconda3/envs/py38/lib/python3.8/site-packages/astropy/time/core.py:590\u001b[0m, in \u001b[0;36mTimeBase._set_scale\u001b[0;34m(self, scale)\u001b[0m\n\u001b[1;32m    587\u001b[0m     conv_func \u001b[38;5;241m=\u001b[39m \u001b[38;5;28mgetattr\u001b[39m(erfa, sys1 \u001b[38;5;241m+\u001b[39m sys2)\n\u001b[1;32m    588\u001b[0m     jd1, jd2 \u001b[38;5;241m=\u001b[39m conv_func(\u001b[38;5;241m*\u001b[39margs)\n\u001b[0;32m--> 590\u001b[0m jd1, jd2 \u001b[38;5;241m=\u001b[39m \u001b[43mday_frac\u001b[49m\u001b[43m(\u001b[49m\u001b[43mjd1\u001b[49m\u001b[43m,\u001b[49m\u001b[43m \u001b[49m\u001b[43mjd2\u001b[49m\u001b[43m)\u001b[49m\n\u001b[1;32m    591\u001b[0m \u001b[38;5;28;01mif\u001b[39;00m \u001b[38;5;28mself\u001b[39m\u001b[38;5;241m.\u001b[39mmasked:\n\u001b[1;32m    592\u001b[0m     jd2[\u001b[38;5;28mself\u001b[39m\u001b[38;5;241m.\u001b[39mmask] \u001b[38;5;241m=\u001b[39m np\u001b[38;5;241m.\u001b[39mnan\n",
      "File \u001b[0;32m~/anaconda3/envs/py38/lib/python3.8/site-packages/astropy/time/utils.py:63\u001b[0m, in \u001b[0;36mday_frac\u001b[0;34m(val1, val2, factor, divisor)\u001b[0m\n\u001b[1;32m     60\u001b[0m     sum12, err12 \u001b[38;5;241m=\u001b[39m two_sum(q1, q2)\n\u001b[1;32m     62\u001b[0m \u001b[38;5;66;03m# get integer fraction\u001b[39;00m\n\u001b[0;32m---> 63\u001b[0m day \u001b[38;5;241m=\u001b[39m \u001b[43mnp\u001b[49m\u001b[38;5;241;43m.\u001b[39;49m\u001b[43mround\u001b[49m\u001b[43m(\u001b[49m\u001b[43msum12\u001b[49m\u001b[43m)\u001b[49m\n\u001b[1;32m     64\u001b[0m extra, frac \u001b[38;5;241m=\u001b[39m two_sum(sum12, \u001b[38;5;241m-\u001b[39mday)\n\u001b[1;32m     65\u001b[0m frac \u001b[38;5;241m+\u001b[39m\u001b[38;5;241m=\u001b[39m extra \u001b[38;5;241m+\u001b[39m err12\n",
      "File \u001b[0;32m<__array_function__ internals>:180\u001b[0m, in \u001b[0;36mround_\u001b[0;34m(*args, **kwargs)\u001b[0m\n",
      "File \u001b[0;32m~/anaconda3/envs/py38/lib/python3.8/site-packages/numpy/core/fromnumeric.py:3764\u001b[0m, in \u001b[0;36mround_\u001b[0;34m(a, decimals, out)\u001b[0m\n\u001b[1;32m   3757\u001b[0m     \u001b[38;5;28;01mreturn\u001b[39;00m _methods\u001b[38;5;241m.\u001b[39m_var(a, axis\u001b[38;5;241m=\u001b[39maxis, dtype\u001b[38;5;241m=\u001b[39mdtype, out\u001b[38;5;241m=\u001b[39mout, ddof\u001b[38;5;241m=\u001b[39mddof,\n\u001b[1;32m   3758\u001b[0m                          \u001b[38;5;241m*\u001b[39m\u001b[38;5;241m*\u001b[39mkwargs)\n\u001b[1;32m   3761\u001b[0m \u001b[38;5;66;03m# Aliases of other functions. These have their own definitions only so that\u001b[39;00m\n\u001b[1;32m   3762\u001b[0m \u001b[38;5;66;03m# they can have unique docstrings.\u001b[39;00m\n\u001b[0;32m-> 3764\u001b[0m \u001b[38;5;129m@array_function_dispatch\u001b[39m(_around_dispatcher)\n\u001b[1;32m   3765\u001b[0m \u001b[38;5;28;01mdef\u001b[39;00m \u001b[38;5;21mround_\u001b[39m(a, decimals\u001b[38;5;241m=\u001b[39m\u001b[38;5;241m0\u001b[39m, out\u001b[38;5;241m=\u001b[39m\u001b[38;5;28;01mNone\u001b[39;00m):\n\u001b[1;32m   3766\u001b[0m     \u001b[38;5;124;03m\"\"\"\u001b[39;00m\n\u001b[1;32m   3767\u001b[0m \u001b[38;5;124;03m    Round an array to the given number of decimals.\u001b[39;00m\n\u001b[1;32m   3768\u001b[0m \n\u001b[0;32m   (...)\u001b[0m\n\u001b[1;32m   3771\u001b[0m \u001b[38;5;124;03m    around : equivalent function; see for details.\u001b[39;00m\n\u001b[1;32m   3772\u001b[0m \u001b[38;5;124;03m    \"\"\"\u001b[39;00m\n\u001b[1;32m   3773\u001b[0m     \u001b[38;5;28;01mreturn\u001b[39;00m around(a, decimals\u001b[38;5;241m=\u001b[39mdecimals, out\u001b[38;5;241m=\u001b[39mout)\n",
      "\u001b[0;31mKeyboardInterrupt\u001b[0m: "
     ]
    }
   ],
   "source": [
    "# Time calculations output warnings --> ignore them\n",
    "warnings.filterwarnings('ignore')\n",
    "\n",
    "# first iterate through each satellite\n",
    "for ch in chunks[:7]:\n",
    "    sat_num = ch[0].strip()  # the label for each satellite --> STARLINK-xx\n",
    "    s = ch[1]  # first line of TLE set\n",
    "    t = ch[2]  # second line of TLE set\n",
    "    sat = sg.Satrec.twoline2rv(s, t)  \n",
    "    \n",
    "    flag_2 = False\n",
    "\n",
    "    # if True, satellite can't be propagated, so continue to next satellite\n",
    "    if flag_2:\n",
    "        continue\n",
    "    \n",
    "    # check each satellite against each FIELD\n",
    "    for f in field_ids: #[100:1000]:\n",
    "        ra_vals = []  # for satellite right ascensions\n",
    "        dec_vals = []  # for satellite declinations\n",
    "        sat_times = []  # for satellite times\n",
    "        good_obj_times = [] # Observation times\n",
    "        \n",
    "        vectopsatlist = [] # for satellite topocentric vectors\n",
    "        rangeobjects = [] # Distance to objects\n",
    "        posrubin = []\n",
    "        \n",
    "        data = dfin[dfin['FieldID']==f]  # all objects in the field\n",
    "\n",
    "        ra_f = data['AstRA(deg)']  # RA for all objects\n",
    "        dec_f = data['AstDec(deg)']  # Dec for all objects\n",
    "        range_f = data['AstRange(km)'] # Distance for all objects\n",
    "                \n",
    "        min_ra, max_ra = min(ra_f), max(ra_f) # Global minimum and maximums for objects in the field in question\n",
    "        min_dec, max_dec = min(dec_f), max(dec_f)\n",
    "\n",
    "        mjd_t = data['FieldMJD'].unique()[0]  # field time\n",
    "        \n",
    "        t = Time(mjd_t, format='mjd')  # convert to Time format\n",
    "        t_change = TimeDelta(2.0, format='sec')\n",
    "        \n",
    "        flag = False\n",
    "        \n",
    "        count = 1\n",
    "        \n",
    "        # Start 30 seconds before field time\n",
    "        t_before = t - TimeDelta(30.0, format='sec')\n",
    "        \n",
    "        # We're going to propagate every 2 seconds from 30 seconds before to 30 seconds after field time because exposure for the field is 30 seconds\n",
    "        # Because of this, there will be 61 total iterations of propagations\n",
    "        # If a satellite is within this time, it will leave a streak in the field image\n",
    "        while count <= 61:\n",
    "            jd_t = t_before + 2400000.5  # convert MJD to JD for sgp4 propagation calculation\n",
    "            fr, whole = math.modf(float(str(jd_t)))  # fr = digits after decimal of MJD\n",
    "    \n",
    "            e, r, v = sat.sgp4(float(str(jd_t)), round(fr, 12))  # r is [x,y,z] for propagated satellite\n",
    "            x, y, z = r[0], r[1], r[2] # Possible issue due to Keplerian to non-Keplerian elements\n",
    "            length = np.sqrt(x**2 + y**2 + z**2)\n",
    "            norm_coords = np.array([x/length, y/length, z/length])  # normalizing onto unit sphere\n",
    "            ra, dec = icrf2radec(norm_coords)  # convert to RA and Dec (Degrees)\n",
    "            \n",
    "            if ra != ra:  # if nan --> satellite can't be propagated to that time\n",
    "                flag = True\n",
    "                break  # don't bother looking at all the times \n",
    "\n",
    "            # if the object is in the field i.e. within 1 degree\n",
    "            if (min_ra - 1.0 <= ra <= max_ra + 1.0) and (min_dec - 1.0 <= dec <= max_dec + 1.0): \n",
    "                ra_vals.append(ra)\n",
    "                dec_vals.append(dec)\n",
    "                sat_times.append(t_before.value) # times for satellite propagation\n",
    "                \n",
    "                '''\n",
    "                # Calculate topocentric vector for satellite positions from Rubin (Rotation Matrix)\n",
    "                ts = load.timescale()\n",
    "                tsat = ts.tt_jd(t_before.value) # Appropriate time format for rotation matrix\n",
    "                Rsat = ecliptic_frame.rotation_at(tsat) # Incorrect rotation matrix\n",
    "                vectopsat = [x, y, z] - np.matmul(Rsat, vecrubinxyz)\n",
    "                vectopsatlist.append(vectopsat)\n",
    "                '''\n",
    "                \n",
    "                # Calculate topocentric vector for satellite positions from Rubin (WGS84)\n",
    "                tsat = Time(t_before.value, format='jd')\n",
    "                vecrubinxyz = getObserverStates(tsat, observerLatitudeDeg=30.24506,observerLatitudeDirection='S',\n",
    "                     observerLongitudeDeg=70.74913,observerLongitudeDirection='E',observerElevationMeters=2663)\n",
    "                vectopsat = [x, y, z] - vecrubinxyz\n",
    "                vectopsatlist.append(vectopsat)\n",
    "            \n",
    "            t_before += t_change  # Propagate 2.0 seconds\n",
    "            count += 1 \n",
    "            \n",
    "        if flag:\n",
    "            print()\n",
    "            print(\"Could not propagate \" + sat_num)\n",
    "            print()\n",
    "            flag_2 = True\n",
    "            break  # break out of for loop of the fields\n",
    "                \n",
    "        # Only satellite points that are within the field of objects\n",
    "        if any(ra_vals) and any(dec_vals):\n",
    "            good_obj_ra, good_obj_dec, good_obj_range = [], [], []\n",
    "            \n",
    "            obj_count = 0\n",
    "            \n",
    "            # for satellites\n",
    "           \n",
    "            min_ra_track, max_ra_track = ra_vals[0], ra_vals[-1]\n",
    "            min_dec_track, max_dec_track = dec_vals[0], dec_vals[-1]\n",
    "        \n",
    "            \n",
    "            min_long, max_long = np.deg2rad(min_ra_track), np.deg2rad(max_ra_track)  # Convert to radians \n",
    "        \n",
    "            min_lat, max_lat = np.deg2rad(min_dec_track), np.deg2rad(max_dec_track)  \n",
    "            \n",
    "\n",
    "            for obj_r, obj_d, obj_range in zip(ra_f, dec_f, range_f): \n",
    "                obj_long = np.deg2rad(obj_r)\n",
    "                obj_lat = np.deg2rad(obj_d)\n",
    "\n",
    "                bound_d = 2.0 * np.pi/(180*3600)  # 2 arcseconds in radians\n",
    "\n",
    "                # calculate cross track distance between satellite streak and objects\n",
    "                dist = crosstrackdistance(min_lat, min_long, max_lat, max_long, obj_lat, obj_long) \n",
    "                \n",
    "                # an object is considered obstructed if the satellite streak is within 2 arcseconds of it\n",
    "                if (abs(dist) <= bound_d) and ((min_lat <= obj_lat <= max_lat) or (min_long <= obj_long <= max_long)):\n",
    "                    good_obj_ra.append(obj_r)\n",
    "                    good_obj_dec.append(obj_d)\n",
    "                    good_obj_range.append(obj_range)\n",
    "                    good_obj_times.append(t_before.value) # add observation time for objects\n",
    "                    obj_count += 1 \n",
    "                    \n",
    "                    \n",
    "            # only plot objects that are obstructed \n",
    "            if any(good_obj_ra):\n",
    "                plt.figure(dpi=150,figsize=(4,4))\n",
    "                plt.scatter(ra_vals, dec_vals, s=1.5, label='Satellite')\n",
    "                plt.scatter(good_obj_ra, good_obj_dec, s=1.5, label='Objects')\n",
    "                title = \"Field \" + str(f) + \" \" + sat_num\n",
    "                plt.title(title)\n",
    "                plt.xlabel('RA (deg)')\n",
    "                plt.ylabel('Dec (deg)')\n",
    "                plt.legend()\n",
    "#                 plt.savefig(title)\n",
    "                plt.show()\n",
    "\n",
    "                print(\"Number of objects affected: \" + str(obj_count))\n",
    "                print()\n",
    "                print(\"Satellite times:\")\n",
    "                print(str(sat_times))\n",
    "                \n",
    "                print()\n",
    "                print(\"Right Ascension, SATELLITE:\")\n",
    "                print(ra_vals)\n",
    "                print(\"Declination, SATELLITE\")\n",
    "                print(dec_vals)\n",
    "                print()\n",
    "                \n",
    "                print()\n",
    "                print(\"Right Ascension, OBJECTS:\")\n",
    "                print(good_obj_ra)\n",
    "                print(\"Declination, OBJECTS\")\n",
    "                print(good_obj_dec)\n",
    "                print()\n",
    "                \n",
    "                \n",
    "                # Topocentric vector for relevant satellite positions \n",
    "                vectopsatlistdisp = np.array(vectopsatlist)\n",
    "                print(\"Topocentric vector for satellite positions from Rubin (km):\")\n",
    "                print(vectopsatlistdisp)\n",
    "                \n",
    "                '''\n",
    "                # Topocentric vector for relevant objects\n",
    "                for obj in range(0, len(good_obj_ra)):\n",
    "                    ts = load.timescale()\n",
    "                    tobj = ts.tt_jd(good_obj_times[obj]) # Appropriate time format for rotation matrix\n",
    "                    R = ecliptic_frame.rotation_at(tobj) # Rotation matrix\n",
    "                    objpos_xyz = good_obj_range[obj]*radec2icrf(good_obj_ra[obj], good_obj_dec[obj])\n",
    "                    vectopobj = objpos_xyz - np.matmul(R, vecrubinxyz)\n",
    "            \n",
    "                    print('Topocentric vector for object', obj, '(km):')\n",
    "                    print(vectopobj)\n",
    "                '''\n",
    "                \n",
    "                # Topocentric vector for relevant objects\n",
    "                for obj in range(0, len(good_obj_ra)):\n",
    "                    tobj = Time(good_obj_times[obj], format='jd') \n",
    "                    vecrubinxyz = getObserverStates(tobj, observerLatitudeDeg=30.24506,observerLatitudeDirection='S',\n",
    "                     observerLongitudeDeg=70.74913,observerLongitudeDirection='E',observerElevationMeters=2663)\n",
    "                    objpos_xyz = good_obj_range[obj]*radec2icrf(good_obj_ra[obj], good_obj_dec[obj])\n",
    "                    vectopobj = objpos_xyz - vecrubinxyz\n",
    "            \n",
    "                    print('Topocentric vector for object', obj, '(km):')\n",
    "                    print(vectopobj)\n",
    "                "
   ]
  },
  {
   "cell_type": "code",
   "execution_count": null,
   "id": "beca6c08",
   "metadata": {},
   "outputs": [],
   "source": []
  }
 ],
 "metadata": {
  "kernelspec": {
   "display_name": "davidar6",
   "language": "python",
   "name": "py38"
  },
  "language_info": {
   "codemirror_mode": {
    "name": "ipython",
    "version": 3
   },
   "file_extension": ".py",
   "mimetype": "text/x-python",
   "name": "python",
   "nbconvert_exporter": "python",
   "pygments_lexer": "ipython3",
   "version": "3.8.12"
  }
 },
 "nbformat": 4,
 "nbformat_minor": 5
}
